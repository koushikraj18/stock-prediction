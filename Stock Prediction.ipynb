{
 "cells": [
  {
   "cell_type": "markdown",
   "id": "17dbd28f",
   "metadata": {},
   "source": [
    "# IMPORT LIBRARIES"
   ]
  },
  {
   "cell_type": "code",
   "execution_count": 1,
   "id": "a9a394a5",
   "metadata": {},
   "outputs": [],
   "source": [
    "import numpy as np\n",
    "import matplotlib.pyplot as plt\n",
    "import pandas as pd"
   ]
  },
  {
   "cell_type": "code",
   "execution_count": 1,
   "id": "29160c84",
   "metadata": {},
   "outputs": [
    {
     "data": {
      "text/html": [
       "<img src=\"https://res.cloudinary.com/practicaldev/image/fetch/s--psVH86Cx--/c_imagga_scale,f_auto,fl_progressive,h_420,q_auto,w_1000/https://dev-to-uploads.s3.amazonaws.com/uploads/articles/ci551zpjvsr4yopg9f16.jpeg\"/>"
      ],
      "text/plain": [
       "<IPython.core.display.Image object>"
      ]
     },
     "execution_count": 1,
     "metadata": {},
     "output_type": "execute_result"
    }
   ],
   "source": [
    "from IPython.display import Image\n",
    "Image(url= \"https://res.cloudinary.com/practicaldev/image/fetch/s--psVH86Cx--/c_imagga_scale,f_auto,fl_progressive,h_420,q_auto,w_1000/https://dev-to-uploads.s3.amazonaws.com/uploads/articles/ci551zpjvsr4yopg9f16.jpeg\")\n"
   ]
  },
  {
   "cell_type": "markdown",
   "id": "4ce6bc11",
   "metadata": {},
   "source": [
    "# IMPORT DATASET"
   ]
  },
  {
   "cell_type": "code",
   "execution_count": 7,
   "id": "a8544c14",
   "metadata": {},
   "outputs": [],
   "source": [
    "train_dataset=pd.read_csv(\"C:\\\\Users\\\\sairam\\\\OneDrive\\\\Desktop\\\\PROJECT\\\\Stock csv\\\\Google_Stock_Price_Train.csv\")"
   ]
  },
  {
   "cell_type": "markdown",
   "id": "31dfe11f",
   "metadata": {},
   "source": [
    "# PERFORMING EDA "
   ]
  },
  {
   "cell_type": "code",
   "execution_count": 8,
   "id": "f78565d3",
   "metadata": {},
   "outputs": [
    {
     "data": {
      "text/html": [
       "<div>\n",
       "<style scoped>\n",
       "    .dataframe tbody tr th:only-of-type {\n",
       "        vertical-align: middle;\n",
       "    }\n",
       "\n",
       "    .dataframe tbody tr th {\n",
       "        vertical-align: top;\n",
       "    }\n",
       "\n",
       "    .dataframe thead th {\n",
       "        text-align: right;\n",
       "    }\n",
       "</style>\n",
       "<table border=\"1\" class=\"dataframe\">\n",
       "  <thead>\n",
       "    <tr style=\"text-align: right;\">\n",
       "      <th></th>\n",
       "      <th>Date</th>\n",
       "      <th>Open</th>\n",
       "      <th>High</th>\n",
       "      <th>Low</th>\n",
       "      <th>Close</th>\n",
       "      <th>Volume</th>\n",
       "    </tr>\n",
       "  </thead>\n",
       "  <tbody>\n",
       "    <tr>\n",
       "      <th>0</th>\n",
       "      <td>1/3/2012</td>\n",
       "      <td>325.25</td>\n",
       "      <td>332.83</td>\n",
       "      <td>324.97</td>\n",
       "      <td>663.59</td>\n",
       "      <td>7,380,500</td>\n",
       "    </tr>\n",
       "    <tr>\n",
       "      <th>1</th>\n",
       "      <td>1/4/2012</td>\n",
       "      <td>331.27</td>\n",
       "      <td>333.87</td>\n",
       "      <td>329.08</td>\n",
       "      <td>666.45</td>\n",
       "      <td>5,749,400</td>\n",
       "    </tr>\n",
       "    <tr>\n",
       "      <th>2</th>\n",
       "      <td>1/5/2012</td>\n",
       "      <td>329.83</td>\n",
       "      <td>330.75</td>\n",
       "      <td>326.89</td>\n",
       "      <td>657.21</td>\n",
       "      <td>6,590,300</td>\n",
       "    </tr>\n",
       "    <tr>\n",
       "      <th>3</th>\n",
       "      <td>1/6/2012</td>\n",
       "      <td>328.34</td>\n",
       "      <td>328.77</td>\n",
       "      <td>323.68</td>\n",
       "      <td>648.24</td>\n",
       "      <td>5,405,900</td>\n",
       "    </tr>\n",
       "    <tr>\n",
       "      <th>4</th>\n",
       "      <td>1/9/2012</td>\n",
       "      <td>322.04</td>\n",
       "      <td>322.29</td>\n",
       "      <td>309.46</td>\n",
       "      <td>620.76</td>\n",
       "      <td>11,688,800</td>\n",
       "    </tr>\n",
       "  </tbody>\n",
       "</table>\n",
       "</div>"
      ],
      "text/plain": [
       "       Date    Open    High     Low   Close      Volume\n",
       "0  1/3/2012  325.25  332.83  324.97  663.59   7,380,500\n",
       "1  1/4/2012  331.27  333.87  329.08  666.45   5,749,400\n",
       "2  1/5/2012  329.83  330.75  326.89  657.21   6,590,300\n",
       "3  1/6/2012  328.34  328.77  323.68  648.24   5,405,900\n",
       "4  1/9/2012  322.04  322.29  309.46  620.76  11,688,800"
      ]
     },
     "execution_count": 8,
     "metadata": {},
     "output_type": "execute_result"
    }
   ],
   "source": [
    "train_dataset.head()"
   ]
  },
  {
   "cell_type": "code",
   "execution_count": 9,
   "id": "4365796d",
   "metadata": {},
   "outputs": [
    {
     "data": {
      "text/plain": [
       "Date      0\n",
       "Open      0\n",
       "High      0\n",
       "Low       0\n",
       "Close     0\n",
       "Volume    0\n",
       "dtype: int64"
      ]
     },
     "execution_count": 9,
     "metadata": {},
     "output_type": "execute_result"
    }
   ],
   "source": [
    "train_dataset.isna().sum()"
   ]
  },
  {
   "cell_type": "code",
   "execution_count": 10,
   "id": "7f267940",
   "metadata": {},
   "outputs": [],
   "source": [
    "X=train_dataset.iloc[:,1:2].values"
   ]
  },
  {
   "cell_type": "code",
   "execution_count": 11,
   "id": "6031151b",
   "metadata": {},
   "outputs": [
    {
     "name": "stderr",
     "output_type": "stream",
     "text": [
      "C:\\Users\\sairam\\anaconda3\\lib\\site-packages\\scipy\\__init__.py:146: UserWarning: A NumPy version >=1.16.5 and <1.23.0 is required for this version of SciPy (detected version 1.24.3\n",
      "  warnings.warn(f\"A NumPy version >={np_minversion} and <{np_maxversion}\"\n"
     ]
    }
   ],
   "source": [
    "from sklearn.preprocessing import MinMaxScaler\n",
    "sc=MinMaxScaler()\n",
    "X=sc.fit_transform(X)"
   ]
  },
  {
   "cell_type": "code",
   "execution_count": 12,
   "id": "3ebb1d31",
   "metadata": {},
   "outputs": [],
   "source": [
    "X_train=[]\n",
    "Y_train=[]\n",
    "for i in range(60 ,1258):\n",
    "    X_train.append(X[i-60:i,0])\n",
    "    Y_train.append(X[i,0])\n",
    "    "
   ]
  },
  {
   "cell_type": "code",
   "execution_count": 13,
   "id": "d9a92666",
   "metadata": {},
   "outputs": [
    {
     "data": {
      "text/plain": [
       "(1258, 1)"
      ]
     },
     "execution_count": 13,
     "metadata": {},
     "output_type": "execute_result"
    }
   ],
   "source": [
    "X.shape"
   ]
  },
  {
   "cell_type": "code",
   "execution_count": 14,
   "id": "14bb6557",
   "metadata": {},
   "outputs": [],
   "source": [
    "X_train=np.array(X_train)\n",
    "Y_train=np.array(Y_train)"
   ]
  },
  {
   "cell_type": "code",
   "execution_count": 15,
   "id": "b6930eda",
   "metadata": {},
   "outputs": [],
   "source": [
    "X_train=np.reshape(X_train,(X_train.shape[0],X_train.shape[1],1))"
   ]
  },
  {
   "cell_type": "code",
   "execution_count": 16,
   "id": "de9694f0",
   "metadata": {},
   "outputs": [
    {
     "data": {
      "text/plain": [
       "(1198, 60, 1)"
      ]
     },
     "execution_count": 16,
     "metadata": {},
     "output_type": "execute_result"
    }
   ],
   "source": [
    "X_train.shape"
   ]
  },
  {
   "cell_type": "code",
   "execution_count": 17,
   "id": "90a1d85e",
   "metadata": {},
   "outputs": [],
   "source": [
    "from keras.models import Sequential\n",
    "from keras.layers import Dense\n",
    "from keras.layers import LSTM\n",
    "from keras.layers import Dropout"
   ]
  },
  {
   "cell_type": "code",
   "execution_count": 18,
   "id": "ad38789f",
   "metadata": {},
   "outputs": [
    {
     "name": "stdout",
     "output_type": "stream",
     "text": [
      "Requirement already satisfied: keras in c:\\users\\sairam\\anaconda3\\lib\\site-packages (2.13.1)\n"
     ]
    }
   ],
   "source": [
    "!pip install keras"
   ]
  },
  {
   "cell_type": "code",
   "execution_count": 19,
   "id": "628190df",
   "metadata": {},
   "outputs": [
    {
     "name": "stdout",
     "output_type": "stream",
     "text": [
      "Requirement already satisfied: tensorflow in c:\\users\\sairam\\anaconda3\\lib\\site-packages (2.13.0)\n",
      "Requirement already satisfied: tensorflow-intel==2.13.0 in c:\\users\\sairam\\anaconda3\\lib\\site-packages (from tensorflow) (2.13.0)\n",
      "Requirement already satisfied: protobuf!=4.21.0,!=4.21.1,!=4.21.2,!=4.21.3,!=4.21.4,!=4.21.5,<5.0.0dev,>=3.20.3 in c:\\users\\sairam\\anaconda3\\lib\\site-packages (from tensorflow-intel==2.13.0->tensorflow) (4.24.3)\n",
      "Requirement already satisfied: gast<=0.4.0,>=0.2.1 in c:\\users\\sairam\\anaconda3\\lib\\site-packages (from tensorflow-intel==2.13.0->tensorflow) (0.4.0)\n",
      "Requirement already satisfied: tensorboard<2.14,>=2.13 in c:\\users\\sairam\\anaconda3\\lib\\site-packages (from tensorflow-intel==2.13.0->tensorflow) (2.13.0)\n",
      "Requirement already satisfied: flatbuffers>=23.1.21 in c:\\users\\sairam\\anaconda3\\lib\\site-packages (from tensorflow-intel==2.13.0->tensorflow) (23.5.26)\n",
      "Requirement already satisfied: tensorflow-io-gcs-filesystem>=0.23.1 in c:\\users\\sairam\\anaconda3\\lib\\site-packages (from tensorflow-intel==2.13.0->tensorflow) (0.31.0)\n",
      "Requirement already satisfied: grpcio<2.0,>=1.24.3 in c:\\users\\sairam\\anaconda3\\lib\\site-packages (from tensorflow-intel==2.13.0->tensorflow) (1.58.0)\n",
      "Requirement already satisfied: h5py>=2.9.0 in c:\\users\\sairam\\anaconda3\\lib\\site-packages (from tensorflow-intel==2.13.0->tensorflow) (3.6.0)\n",
      "Requirement already satisfied: astunparse>=1.6.0 in c:\\users\\sairam\\anaconda3\\lib\\site-packages (from tensorflow-intel==2.13.0->tensorflow) (1.6.3)\n",
      "Requirement already satisfied: six>=1.12.0 in c:\\users\\sairam\\anaconda3\\lib\\site-packages (from tensorflow-intel==2.13.0->tensorflow) (1.16.0)\n",
      "Requirement already satisfied: opt-einsum>=2.3.2 in c:\\users\\sairam\\anaconda3\\lib\\site-packages (from tensorflow-intel==2.13.0->tensorflow) (3.3.0)\n",
      "Requirement already satisfied: absl-py>=1.0.0 in c:\\users\\sairam\\anaconda3\\lib\\site-packages (from tensorflow-intel==2.13.0->tensorflow) (1.4.0)\n",
      "Requirement already satisfied: keras<2.14,>=2.13.1 in c:\\users\\sairam\\anaconda3\\lib\\site-packages (from tensorflow-intel==2.13.0->tensorflow) (2.13.1)\n",
      "Requirement already satisfied: termcolor>=1.1.0 in c:\\users\\sairam\\anaconda3\\lib\\site-packages (from tensorflow-intel==2.13.0->tensorflow) (2.3.0)\n",
      "Requirement already satisfied: wrapt>=1.11.0 in c:\\users\\sairam\\anaconda3\\lib\\site-packages (from tensorflow-intel==2.13.0->tensorflow) (1.12.1)\n",
      "Requirement already satisfied: numpy<=1.24.3,>=1.22 in c:\\users\\sairam\\anaconda3\\lib\\site-packages (from tensorflow-intel==2.13.0->tensorflow) (1.24.3)\n",
      "Requirement already satisfied: typing-extensions<4.6.0,>=3.6.6 in c:\\users\\sairam\\anaconda3\\lib\\site-packages (from tensorflow-intel==2.13.0->tensorflow) (4.1.1)\n",
      "Requirement already satisfied: google-pasta>=0.1.1 in c:\\users\\sairam\\anaconda3\\lib\\site-packages (from tensorflow-intel==2.13.0->tensorflow) (0.2.0)\n",
      "Requirement already satisfied: setuptools in c:\\users\\sairam\\anaconda3\\lib\\site-packages (from tensorflow-intel==2.13.0->tensorflow) (61.2.0)\n",
      "Requirement already satisfied: tensorflow-estimator<2.14,>=2.13.0 in c:\\users\\sairam\\anaconda3\\lib\\site-packages (from tensorflow-intel==2.13.0->tensorflow) (2.13.0)\n",
      "Requirement already satisfied: packaging in c:\\users\\sairam\\anaconda3\\lib\\site-packages (from tensorflow-intel==2.13.0->tensorflow) (21.3)\n",
      "Requirement already satisfied: libclang>=13.0.0 in c:\\users\\sairam\\anaconda3\\lib\\site-packages (from tensorflow-intel==2.13.0->tensorflow) (16.0.6)\n",
      "Requirement already satisfied: wheel<1.0,>=0.23.0 in c:\\users\\sairam\\anaconda3\\lib\\site-packages (from astunparse>=1.6.0->tensorflow-intel==2.13.0->tensorflow) (0.37.1)\n",
      "Requirement already satisfied: google-auth<3,>=1.6.3 in c:\\users\\sairam\\anaconda3\\lib\\site-packages (from tensorboard<2.14,>=2.13->tensorflow-intel==2.13.0->tensorflow) (2.23.0)\n",
      "Requirement already satisfied: tensorboard-data-server<0.8.0,>=0.7.0 in c:\\users\\sairam\\anaconda3\\lib\\site-packages (from tensorboard<2.14,>=2.13->tensorflow-intel==2.13.0->tensorflow) (0.7.1)\n",
      "Requirement already satisfied: markdown>=2.6.8 in c:\\users\\sairam\\anaconda3\\lib\\site-packages (from tensorboard<2.14,>=2.13->tensorflow-intel==2.13.0->tensorflow) (3.3.4)\n",
      "Requirement already satisfied: werkzeug>=1.0.1 in c:\\users\\sairam\\anaconda3\\lib\\site-packages (from tensorboard<2.14,>=2.13->tensorflow-intel==2.13.0->tensorflow) (2.0.3)\n",
      "Requirement already satisfied: requests<3,>=2.21.0 in c:\\users\\sairam\\anaconda3\\lib\\site-packages (from tensorboard<2.14,>=2.13->tensorflow-intel==2.13.0->tensorflow) (2.27.1)\n",
      "Requirement already satisfied: google-auth-oauthlib<1.1,>=0.5 in c:\\users\\sairam\\anaconda3\\lib\\site-packages (from tensorboard<2.14,>=2.13->tensorflow-intel==2.13.0->tensorflow) (1.0.0)\n",
      "Requirement already satisfied: rsa<5,>=3.1.4 in c:\\users\\sairam\\anaconda3\\lib\\site-packages (from google-auth<3,>=1.6.3->tensorboard<2.14,>=2.13->tensorflow-intel==2.13.0->tensorflow) (4.7.2)\n",
      "Requirement already satisfied: urllib3<2.0 in c:\\users\\sairam\\anaconda3\\lib\\site-packages (from google-auth<3,>=1.6.3->tensorboard<2.14,>=2.13->tensorflow-intel==2.13.0->tensorflow) (1.26.9)\n",
      "Requirement already satisfied: cachetools<6.0,>=2.0.0 in c:\\users\\sairam\\anaconda3\\lib\\site-packages (from google-auth<3,>=1.6.3->tensorboard<2.14,>=2.13->tensorflow-intel==2.13.0->tensorflow) (4.2.2)\n",
      "Requirement already satisfied: pyasn1-modules>=0.2.1 in c:\\users\\sairam\\anaconda3\\lib\\site-packages (from google-auth<3,>=1.6.3->tensorboard<2.14,>=2.13->tensorflow-intel==2.13.0->tensorflow) (0.2.8)\n",
      "Requirement already satisfied: requests-oauthlib>=0.7.0 in c:\\users\\sairam\\anaconda3\\lib\\site-packages (from google-auth-oauthlib<1.1,>=0.5->tensorboard<2.14,>=2.13->tensorflow-intel==2.13.0->tensorflow) (1.3.1)\n",
      "Requirement already satisfied: pyasn1<0.5.0,>=0.4.6 in c:\\users\\sairam\\anaconda3\\lib\\site-packages (from pyasn1-modules>=0.2.1->google-auth<3,>=1.6.3->tensorboard<2.14,>=2.13->tensorflow-intel==2.13.0->tensorflow) (0.4.8)\n",
      "Requirement already satisfied: certifi>=2017.4.17 in c:\\users\\sairam\\anaconda3\\lib\\site-packages (from requests<3,>=2.21.0->tensorboard<2.14,>=2.13->tensorflow-intel==2.13.0->tensorflow) (2021.10.8)\n",
      "Requirement already satisfied: charset-normalizer~=2.0.0 in c:\\users\\sairam\\anaconda3\\lib\\site-packages (from requests<3,>=2.21.0->tensorboard<2.14,>=2.13->tensorflow-intel==2.13.0->tensorflow) (2.0.4)\n",
      "Requirement already satisfied: idna<4,>=2.5 in c:\\users\\sairam\\anaconda3\\lib\\site-packages (from requests<3,>=2.21.0->tensorboard<2.14,>=2.13->tensorflow-intel==2.13.0->tensorflow) (3.3)\n",
      "Requirement already satisfied: oauthlib>=3.0.0 in c:\\users\\sairam\\anaconda3\\lib\\site-packages (from requests-oauthlib>=0.7.0->google-auth-oauthlib<1.1,>=0.5->tensorboard<2.14,>=2.13->tensorflow-intel==2.13.0->tensorflow) (3.2.2)\n",
      "Requirement already satisfied: pyparsing!=3.0.5,>=2.0.2 in c:\\users\\sairam\\anaconda3\\lib\\site-packages (from packaging->tensorflow-intel==2.13.0->tensorflow) (3.0.4)\n"
     ]
    }
   ],
   "source": [
    "!pip install tensorflow"
   ]
  },
  {
   "cell_type": "code",
   "execution_count": 20,
   "id": "b3577857",
   "metadata": {},
   "outputs": [],
   "source": [
    "regressor=Sequential()\n",
    "regressor.add(LSTM(units=50 , return_sequences=True,input_shape=(X_train.shape[1],1)))\n",
    "regressor.add(Dropout(rate=0.2))\n",
    "regressor.add(LSTM(units=50 , return_sequences=True))\n",
    "regressor.add(Dropout(0.2))\n",
    "regressor.add(LSTM(units=50 , return_sequences=True))\n",
    "regressor.add(Dropout(0.1))\n"
   ]
  },
  {
   "cell_type": "code",
   "execution_count": 21,
   "id": "9d556200",
   "metadata": {},
   "outputs": [],
   "source": [
    "regressor.add(LSTM(units=50))\n",
    "regressor.add(Dropout(0.2))\n",
    "regressor.add(Dense(units=1))\n"
   ]
  },
  {
   "cell_type": "code",
   "execution_count": 22,
   "id": "5429633d",
   "metadata": {},
   "outputs": [],
   "source": [
    "regressor.compile(optimizer='adam',loss='mean_squared_error')"
   ]
  },
  {
   "cell_type": "code",
   "execution_count": 51,
   "id": "fb66b5dd",
   "metadata": {},
   "outputs": [
    {
     "name": "stdout",
     "output_type": "stream",
     "text": [
      "Epoch 1/200\n",
      "38/38 [==============================] - 3s 74ms/step - loss: 0.0016\n",
      "Epoch 2/200\n",
      "38/38 [==============================] - 3s 69ms/step - loss: 0.0015\n",
      "Epoch 3/200\n",
      "38/38 [==============================] - 3s 69ms/step - loss: 0.0018\n",
      "Epoch 4/200\n",
      "38/38 [==============================] - 3s 70ms/step - loss: 0.0015\n",
      "Epoch 5/200\n",
      "38/38 [==============================] - 3s 71ms/step - loss: 0.0015\n",
      "Epoch 6/200\n",
      "38/38 [==============================] - 3s 72ms/step - loss: 0.0016\n",
      "Epoch 7/200\n",
      "38/38 [==============================] - 3s 73ms/step - loss: 0.0016\n",
      "Epoch 8/200\n",
      "38/38 [==============================] - 3s 72ms/step - loss: 0.0015\n",
      "Epoch 9/200\n",
      "38/38 [==============================] - 3s 72ms/step - loss: 0.0015\n",
      "Epoch 10/200\n",
      "38/38 [==============================] - 3s 72ms/step - loss: 0.0014\n",
      "Epoch 11/200\n",
      "38/38 [==============================] - 3s 72ms/step - loss: 0.0015\n",
      "Epoch 12/200\n",
      "38/38 [==============================] - 3s 74ms/step - loss: 0.0015\n",
      "Epoch 13/200\n",
      "38/38 [==============================] - 3s 73ms/step - loss: 0.0015\n",
      "Epoch 14/200\n",
      "38/38 [==============================] - 3s 72ms/step - loss: 0.0016\n",
      "Epoch 15/200\n",
      "38/38 [==============================] - 3s 74ms/step - loss: 0.0015\n",
      "Epoch 16/200\n",
      "38/38 [==============================] - 3s 76ms/step - loss: 0.0012\n",
      "Epoch 17/200\n",
      "38/38 [==============================] - 3s 74ms/step - loss: 0.0013\n",
      "Epoch 18/200\n",
      "38/38 [==============================] - 3s 77ms/step - loss: 0.0016\n",
      "Epoch 19/200\n",
      "38/38 [==============================] - 3s 74ms/step - loss: 0.0015\n",
      "Epoch 20/200\n",
      "38/38 [==============================] - 3s 74ms/step - loss: 0.0013\n",
      "Epoch 21/200\n",
      "38/38 [==============================] - 3s 74ms/step - loss: 0.0013\n",
      "Epoch 22/200\n",
      "38/38 [==============================] - 3s 75ms/step - loss: 0.0013\n",
      "Epoch 23/200\n",
      "38/38 [==============================] - 3s 82ms/step - loss: 0.0013\n",
      "Epoch 24/200\n",
      "38/38 [==============================] - 3s 87ms/step - loss: 0.0014\n",
      "Epoch 25/200\n",
      "38/38 [==============================] - 3s 79ms/step - loss: 0.0014\n",
      "Epoch 26/200\n",
      "38/38 [==============================] - 3s 78ms/step - loss: 0.0013\n",
      "Epoch 27/200\n",
      "38/38 [==============================] - 3s 80ms/step - loss: 0.0013\n",
      "Epoch 28/200\n",
      "38/38 [==============================] - 3s 82ms/step - loss: 0.0013\n",
      "Epoch 29/200\n",
      "38/38 [==============================] - 3s 83ms/step - loss: 0.0013\n",
      "Epoch 30/200\n",
      "38/38 [==============================] - 3s 80ms/step - loss: 0.0013\n",
      "Epoch 31/200\n",
      "38/38 [==============================] - 3s 80ms/step - loss: 0.0012\n",
      "Epoch 32/200\n",
      "38/38 [==============================] - 3s 80ms/step - loss: 0.0012\n",
      "Epoch 33/200\n",
      "38/38 [==============================] - 3s 80ms/step - loss: 0.0014\n",
      "Epoch 34/200\n",
      "38/38 [==============================] - 3s 84ms/step - loss: 0.0012\n",
      "Epoch 35/200\n",
      "38/38 [==============================] - 3s 81ms/step - loss: 0.0012\n",
      "Epoch 36/200\n",
      "38/38 [==============================] - 3s 80ms/step - loss: 0.0015\n",
      "Epoch 37/200\n",
      "38/38 [==============================] - 3s 80ms/step - loss: 0.0012\n",
      "Epoch 38/200\n",
      "38/38 [==============================] - 3s 80ms/step - loss: 0.0013\n",
      "Epoch 39/200\n",
      "38/38 [==============================] - 3s 84ms/step - loss: 0.0014\n",
      "Epoch 40/200\n",
      "38/38 [==============================] - 3s 81ms/step - loss: 0.0012\n",
      "Epoch 41/200\n",
      "38/38 [==============================] - 3s 83ms/step - loss: 0.0011\n",
      "Epoch 42/200\n",
      "38/38 [==============================] - 3s 80ms/step - loss: 0.0013\n",
      "Epoch 43/200\n",
      "38/38 [==============================] - 3s 80ms/step - loss: 0.0012\n",
      "Epoch 44/200\n",
      "38/38 [==============================] - 3s 87ms/step - loss: 0.0011\n",
      "Epoch 45/200\n",
      "38/38 [==============================] - 3s 90ms/step - loss: 0.0011\n",
      "Epoch 46/200\n",
      "38/38 [==============================] - 3s 80ms/step - loss: 0.0011\n",
      "Epoch 47/200\n",
      "38/38 [==============================] - 3s 79ms/step - loss: 0.0011\n",
      "Epoch 48/200\n",
      "38/38 [==============================] - 3s 81ms/step - loss: 0.0012\n",
      "Epoch 49/200\n",
      "38/38 [==============================] - 3s 83ms/step - loss: 0.0011\n",
      "Epoch 50/200\n",
      "38/38 [==============================] - 3s 81ms/step - loss: 0.0011\n",
      "Epoch 51/200\n",
      "38/38 [==============================] - 3s 79ms/step - loss: 0.0012\n",
      "Epoch 52/200\n",
      "38/38 [==============================] - 3s 79ms/step - loss: 0.0012\n",
      "Epoch 53/200\n",
      "38/38 [==============================] - 3s 80ms/step - loss: 0.0012\n",
      "Epoch 54/200\n",
      "38/38 [==============================] - 3s 80ms/step - loss: 0.0010\n",
      "Epoch 55/200\n",
      "38/38 [==============================] - 3s 82ms/step - loss: 0.0012\n",
      "Epoch 56/200\n",
      "38/38 [==============================] - 3s 79ms/step - loss: 0.0011\n",
      "Epoch 57/200\n",
      "38/38 [==============================] - 3s 79ms/step - loss: 0.0012\n",
      "Epoch 58/200\n",
      "38/38 [==============================] - 3s 79ms/step - loss: 0.0011\n",
      "Epoch 59/200\n",
      "38/38 [==============================] - 3s 80ms/step - loss: 0.0012\n",
      "Epoch 60/200\n",
      "38/38 [==============================] - 3s 83ms/step - loss: 0.0014\n",
      "Epoch 61/200\n",
      "38/38 [==============================] - 3s 84ms/step - loss: 0.0010\n",
      "Epoch 62/200\n",
      "38/38 [==============================] - 3s 85ms/step - loss: 0.0011\n",
      "Epoch 63/200\n",
      "38/38 [==============================] - 3s 80ms/step - loss: 0.0012\n",
      "Epoch 64/200\n",
      "38/38 [==============================] - 3s 80ms/step - loss: 0.0012\n",
      "Epoch 65/200\n",
      "38/38 [==============================] - 3s 87ms/step - loss: 0.0011\n",
      "Epoch 66/200\n",
      "38/38 [==============================] - 3s 87ms/step - loss: 0.0011\n",
      "Epoch 67/200\n",
      "38/38 [==============================] - 3s 80ms/step - loss: 9.8402e-04\n",
      "Epoch 68/200\n",
      "38/38 [==============================] - 3s 80ms/step - loss: 0.0011\n",
      "Epoch 69/200\n",
      "38/38 [==============================] - 3s 81ms/step - loss: 0.0011\n",
      "Epoch 70/200\n",
      "38/38 [==============================] - 3s 83ms/step - loss: 0.0011\n",
      "Epoch 71/200\n",
      "38/38 [==============================] - 3s 81ms/step - loss: 9.9742e-04\n",
      "Epoch 72/200\n",
      "38/38 [==============================] - 3s 80ms/step - loss: 0.0011\n",
      "Epoch 73/200\n",
      "38/38 [==============================] - 3s 79ms/step - loss: 0.0010\n",
      "Epoch 74/200\n",
      "38/38 [==============================] - 3s 80ms/step - loss: 0.0010\n",
      "Epoch 75/200\n",
      "38/38 [==============================] - 3s 87ms/step - loss: 0.0011\n",
      "Epoch 76/200\n",
      "38/38 [==============================] - 3s 83ms/step - loss: 0.0011\n",
      "Epoch 77/200\n",
      "38/38 [==============================] - 3s 80ms/step - loss: 0.0012\n",
      "Epoch 78/200\n",
      "38/38 [==============================] - 3s 80ms/step - loss: 0.0010\n",
      "Epoch 79/200\n",
      "38/38 [==============================] - 3s 79ms/step - loss: 0.0011\n",
      "Epoch 80/200\n",
      "38/38 [==============================] - 3s 83ms/step - loss: 0.0011\n",
      "Epoch 81/200\n",
      "38/38 [==============================] - 3s 80ms/step - loss: 9.8711e-04\n",
      "Epoch 82/200\n",
      "38/38 [==============================] - 3s 79ms/step - loss: 0.0010\n",
      "Epoch 83/200\n",
      "38/38 [==============================] - 3s 80ms/step - loss: 0.0012\n",
      "Epoch 84/200\n",
      "38/38 [==============================] - 3s 79ms/step - loss: 9.9231e-04\n",
      "Epoch 85/200\n",
      "38/38 [==============================] - 3s 81ms/step - loss: 0.0011\n",
      "Epoch 86/200\n",
      "38/38 [==============================] - 3s 82ms/step - loss: 0.0011\n",
      "Epoch 87/200\n",
      "38/38 [==============================] - 3s 89ms/step - loss: 0.0010\n",
      "Epoch 88/200\n",
      "38/38 [==============================] - 3s 84ms/step - loss: 0.0011\n",
      "Epoch 89/200\n",
      "38/38 [==============================] - 3s 81ms/step - loss: 0.0011\n",
      "Epoch 90/200\n",
      "38/38 [==============================] - 3s 81ms/step - loss: 9.5701e-04\n",
      "Epoch 91/200\n",
      "38/38 [==============================] - 3s 82ms/step - loss: 0.0011\n",
      "Epoch 92/200\n",
      "38/38 [==============================] - 3s 79ms/step - loss: 9.8526e-04\n",
      "Epoch 93/200\n",
      "38/38 [==============================] - 3s 79ms/step - loss: 0.0011\n",
      "Epoch 94/200\n",
      "38/38 [==============================] - 3s 80ms/step - loss: 0.0011\n",
      "Epoch 95/200\n",
      "38/38 [==============================] - 3s 80ms/step - loss: 9.6606e-04\n",
      "Epoch 96/200\n",
      "38/38 [==============================] - 3s 84ms/step - loss: 9.3756e-04\n",
      "Epoch 97/200\n",
      "38/38 [==============================] - 3s 80ms/step - loss: 0.0010\n",
      "Epoch 98/200\n",
      "38/38 [==============================] - 3s 80ms/step - loss: 9.8068e-04\n",
      "Epoch 99/200\n",
      "38/38 [==============================] - 3s 80ms/step - loss: 9.9987e-04\n",
      "Epoch 100/200\n",
      "38/38 [==============================] - 3s 80ms/step - loss: 0.0011\n",
      "Epoch 101/200\n",
      "38/38 [==============================] - 3s 84ms/step - loss: 0.0010\n",
      "Epoch 102/200\n",
      "38/38 [==============================] - 3s 80ms/step - loss: 0.0011\n",
      "Epoch 103/200\n",
      "38/38 [==============================] - 3s 80ms/step - loss: 0.0011\n",
      "Epoch 104/200\n",
      "38/38 [==============================] - 3s 80ms/step - loss: 9.5481e-04\n",
      "Epoch 105/200\n",
      "38/38 [==============================] - 3s 80ms/step - loss: 0.0011\n",
      "Epoch 106/200\n",
      "38/38 [==============================] - 3s 83ms/step - loss: 9.6150e-04\n",
      "Epoch 107/200\n",
      "38/38 [==============================] - 3s 79ms/step - loss: 8.8344e-04\n",
      "Epoch 108/200\n",
      "38/38 [==============================] - 3s 88ms/step - loss: 9.2935e-04\n",
      "Epoch 109/200\n",
      "38/38 [==============================] - 3s 82ms/step - loss: 9.1736e-04\n",
      "Epoch 110/200\n",
      "38/38 [==============================] - 3s 81ms/step - loss: 9.8376e-04\n",
      "Epoch 111/200\n",
      "38/38 [==============================] - 3s 85ms/step - loss: 0.0012\n",
      "Epoch 112/200\n",
      "38/38 [==============================] - 3s 92ms/step - loss: 0.0010\n",
      "Epoch 113/200\n",
      "38/38 [==============================] - 3s 82ms/step - loss: 0.0010\n",
      "Epoch 114/200\n",
      "38/38 [==============================] - 4s 102ms/step - loss: 0.0011\n",
      "Epoch 115/200\n",
      "38/38 [==============================] - 4s 97ms/step - loss: 9.5363e-04\n",
      "Epoch 116/200\n",
      "38/38 [==============================] - 4s 102ms/step - loss: 0.0012\n",
      "Epoch 117/200\n",
      "38/38 [==============================] - 3s 87ms/step - loss: 0.0011\n",
      "Epoch 118/200\n",
      "38/38 [==============================] - 3s 83ms/step - loss: 0.0010\n",
      "Epoch 119/200\n",
      "38/38 [==============================] - 3s 81ms/step - loss: 0.0010\n",
      "Epoch 120/200\n",
      "38/38 [==============================] - 3s 87ms/step - loss: 9.0048e-04\n",
      "Epoch 121/200\n",
      "38/38 [==============================] - 4s 95ms/step - loss: 0.0012\n",
      "Epoch 122/200\n",
      "38/38 [==============================] - 3s 82ms/step - loss: 9.0201e-04\n",
      "Epoch 123/200\n",
      "38/38 [==============================] - 3s 80ms/step - loss: 0.0011\n",
      "Epoch 124/200\n",
      "38/38 [==============================] - 3s 80ms/step - loss: 9.6043e-04\n",
      "Epoch 125/200\n",
      "38/38 [==============================] - 3s 82ms/step - loss: 9.6263e-04\n",
      "Epoch 126/200\n",
      "38/38 [==============================] - 3s 82ms/step - loss: 0.0011\n",
      "Epoch 127/200\n",
      "38/38 [==============================] - 3s 81ms/step - loss: 0.0011\n",
      "Epoch 128/200\n",
      "38/38 [==============================] - 3s 80ms/step - loss: 9.8448e-04\n",
      "Epoch 129/200\n",
      "38/38 [==============================] - 3s 87ms/step - loss: 0.0010\n",
      "Epoch 130/200\n",
      "38/38 [==============================] - 3s 84ms/step - loss: 9.0037e-04\n",
      "Epoch 131/200\n",
      "38/38 [==============================] - 3s 82ms/step - loss: 9.0021e-04\n",
      "Epoch 132/200\n",
      "38/38 [==============================] - 3s 80ms/step - loss: 9.5258e-04\n",
      "Epoch 133/200\n",
      "38/38 [==============================] - 3s 79ms/step - loss: 0.0010\n",
      "Epoch 134/200\n",
      "38/38 [==============================] - 3s 80ms/step - loss: 9.2267e-04\n",
      "Epoch 135/200\n",
      "38/38 [==============================] - 3s 80ms/step - loss: 0.0011\n",
      "Epoch 136/200\n",
      "38/38 [==============================] - 3s 84ms/step - loss: 9.1203e-04\n",
      "Epoch 137/200\n",
      "38/38 [==============================] - 3s 80ms/step - loss: 0.0010\n",
      "Epoch 138/200\n",
      "38/38 [==============================] - 3s 80ms/step - loss: 9.0688e-04\n",
      "Epoch 139/200\n",
      "38/38 [==============================] - 3s 79ms/step - loss: 0.0011\n",
      "Epoch 140/200\n",
      "38/38 [==============================] - 3s 81ms/step - loss: 0.0010\n",
      "Epoch 141/200\n",
      "38/38 [==============================] - 3s 84ms/step - loss: 0.0010\n",
      "Epoch 142/200\n",
      "38/38 [==============================] - 3s 80ms/step - loss: 9.6252e-04\n",
      "Epoch 143/200\n",
      "38/38 [==============================] - 3s 79ms/step - loss: 0.0010\n",
      "Epoch 144/200\n",
      "38/38 [==============================] - 3s 81ms/step - loss: 0.0011\n",
      "Epoch 145/200\n",
      "38/38 [==============================] - 3s 80ms/step - loss: 9.4627e-04\n",
      "Epoch 146/200\n",
      "38/38 [==============================] - 3s 82ms/step - loss: 0.0011\n",
      "Epoch 147/200\n",
      "38/38 [==============================] - 3s 81ms/step - loss: 9.5785e-04\n",
      "Epoch 148/200\n",
      "38/38 [==============================] - 3s 80ms/step - loss: 0.0010\n",
      "Epoch 149/200\n",
      "38/38 [==============================] - 3s 81ms/step - loss: 0.0010\n",
      "Epoch 150/200\n",
      "38/38 [==============================] - 3s 85ms/step - loss: 0.0010\n",
      "Epoch 151/200\n",
      "38/38 [==============================] - 3s 88ms/step - loss: 9.8975e-04\n",
      "Epoch 152/200\n",
      "38/38 [==============================] - 3s 81ms/step - loss: 9.1964e-04\n",
      "Epoch 153/200\n",
      "38/38 [==============================] - 3s 79ms/step - loss: 0.0010\n",
      "Epoch 154/200\n",
      "38/38 [==============================] - 3s 80ms/step - loss: 8.7513e-04\n",
      "Epoch 155/200\n",
      "38/38 [==============================] - 3s 80ms/step - loss: 0.0011\n",
      "Epoch 156/200\n",
      "38/38 [==============================] - 3s 80ms/step - loss: 8.4008e-04\n",
      "Epoch 157/200\n",
      "38/38 [==============================] - 3s 83ms/step - loss: 8.9241e-04\n",
      "Epoch 158/200\n",
      "38/38 [==============================] - 3s 81ms/step - loss: 0.0010\n",
      "Epoch 159/200\n",
      "38/38 [==============================] - 3s 80ms/step - loss: 9.5954e-04\n",
      "Epoch 160/200\n",
      "38/38 [==============================] - 3s 79ms/step - loss: 9.2687e-04\n",
      "Epoch 161/200\n",
      "38/38 [==============================] - 3s 80ms/step - loss: 8.9975e-04\n",
      "Epoch 162/200\n",
      "38/38 [==============================] - 3s 83ms/step - loss: 0.0010\n",
      "Epoch 163/200\n",
      "38/38 [==============================] - 3s 79ms/step - loss: 9.3935e-04\n",
      "Epoch 164/200\n",
      "38/38 [==============================] - 3s 79ms/step - loss: 0.0010\n",
      "Epoch 165/200\n",
      "38/38 [==============================] - 3s 80ms/step - loss: 0.0010\n",
      "Epoch 166/200\n",
      "38/38 [==============================] - 3s 79ms/step - loss: 9.1869e-04\n",
      "Epoch 167/200\n",
      "38/38 [==============================] - 3s 85ms/step - loss: 9.1519e-04\n",
      "Epoch 168/200\n",
      "38/38 [==============================] - 3s 80ms/step - loss: 0.0010\n",
      "Epoch 169/200\n",
      "38/38 [==============================] - 3s 79ms/step - loss: 9.2546e-04\n",
      "Epoch 170/200\n",
      "38/38 [==============================] - 3s 79ms/step - loss: 9.1477e-04\n",
      "Epoch 171/200\n",
      "38/38 [==============================] - 3s 83ms/step - loss: 9.7580e-04\n",
      "Epoch 172/200\n",
      "38/38 [==============================] - 3s 91ms/step - loss: 0.0011\n",
      "Epoch 173/200\n",
      "38/38 [==============================] - 3s 81ms/step - loss: 9.4816e-04\n",
      "Epoch 174/200\n",
      "38/38 [==============================] - 3s 79ms/step - loss: 8.9836e-04\n",
      "Epoch 175/200\n",
      "38/38 [==============================] - 3s 80ms/step - loss: 9.1920e-04\n",
      "Epoch 176/200\n",
      "38/38 [==============================] - 3s 80ms/step - loss: 9.8456e-04\n",
      "Epoch 177/200\n",
      "38/38 [==============================] - 3s 82ms/step - loss: 9.1846e-04\n",
      "Epoch 178/200\n",
      "38/38 [==============================] - 3s 81ms/step - loss: 9.4104e-04\n",
      "Epoch 179/200\n",
      "38/38 [==============================] - 3s 79ms/step - loss: 9.4639e-04\n",
      "Epoch 180/200\n",
      "38/38 [==============================] - 3s 79ms/step - loss: 0.0013\n",
      "Epoch 181/200\n",
      "38/38 [==============================] - 3s 80ms/step - loss: 0.0010\n",
      "Epoch 182/200\n",
      "38/38 [==============================] - 3s 79ms/step - loss: 9.3976e-04\n",
      "Epoch 183/200\n",
      "38/38 [==============================] - 3s 82ms/step - loss: 0.0010\n",
      "Epoch 184/200\n",
      "38/38 [==============================] - 3s 80ms/step - loss: 9.1347e-04\n",
      "Epoch 185/200\n",
      "38/38 [==============================] - 3s 80ms/step - loss: 9.7666e-04\n",
      "Epoch 186/200\n",
      "38/38 [==============================] - 3s 79ms/step - loss: 9.3366e-04\n",
      "Epoch 187/200\n",
      "38/38 [==============================] - 3s 80ms/step - loss: 8.6327e-04\n",
      "Epoch 188/200\n",
      "38/38 [==============================] - 3s 86ms/step - loss: 9.1751e-04\n",
      "Epoch 189/200\n",
      "38/38 [==============================] - 3s 79ms/step - loss: 8.6594e-04\n",
      "Epoch 190/200\n",
      "38/38 [==============================] - 3s 80ms/step - loss: 9.4528e-04\n",
      "Epoch 191/200\n",
      "38/38 [==============================] - 3s 80ms/step - loss: 9.9450e-04\n",
      "Epoch 192/200\n",
      "38/38 [==============================] - 3s 80ms/step - loss: 9.5141e-04\n",
      "Epoch 193/200\n",
      "38/38 [==============================] - 4s 93ms/step - loss: 9.0457e-04\n",
      "Epoch 194/200\n",
      "38/38 [==============================] - 3s 82ms/step - loss: 9.6346e-04\n",
      "Epoch 195/200\n",
      "38/38 [==============================] - 3s 79ms/step - loss: 9.1178e-04\n",
      "Epoch 196/200\n"
     ]
    },
    {
     "name": "stdout",
     "output_type": "stream",
     "text": [
      "38/38 [==============================] - 3s 79ms/step - loss: 9.1033e-04\n",
      "Epoch 197/200\n",
      "38/38 [==============================] - 3s 80ms/step - loss: 8.5866e-04\n",
      "Epoch 198/200\n",
      "38/38 [==============================] - 3s 83ms/step - loss: 9.3418e-04\n",
      "Epoch 199/200\n",
      "38/38 [==============================] - 3s 79ms/step - loss: 0.0011\n",
      "Epoch 200/200\n",
      "38/38 [==============================] - 3s 80ms/step - loss: 8.7179e-04\n"
     ]
    },
    {
     "data": {
      "text/plain": [
       "<keras.src.callbacks.History at 0x25132518ee0>"
      ]
     },
     "execution_count": 51,
     "metadata": {},
     "output_type": "execute_result"
    }
   ],
   "source": [
    "regressor.fit(X_train,Y_train,epochs=200,batch_size=32)"
   ]
  },
  {
   "cell_type": "markdown",
   "id": "eb960bcf",
   "metadata": {},
   "source": [
    "# TESTING ON CUSTOM DATA"
   ]
  },
  {
   "cell_type": "code",
   "execution_count": 52,
   "id": "b936f435",
   "metadata": {},
   "outputs": [],
   "source": [
    "test_dataset=pd.read_csv(\"C:\\\\Users\\\\sairam\\\\OneDrive\\\\Desktop\\\\PROJECT\\\\Stock csv\\\\Google_Stock_Price_Test.csv\")"
   ]
  },
  {
   "cell_type": "code",
   "execution_count": 53,
   "id": "80f4254d",
   "metadata": {},
   "outputs": [
    {
     "data": {
      "text/html": [
       "<div>\n",
       "<style scoped>\n",
       "    .dataframe tbody tr th:only-of-type {\n",
       "        vertical-align: middle;\n",
       "    }\n",
       "\n",
       "    .dataframe tbody tr th {\n",
       "        vertical-align: top;\n",
       "    }\n",
       "\n",
       "    .dataframe thead th {\n",
       "        text-align: right;\n",
       "    }\n",
       "</style>\n",
       "<table border=\"1\" class=\"dataframe\">\n",
       "  <thead>\n",
       "    <tr style=\"text-align: right;\">\n",
       "      <th></th>\n",
       "      <th>Date</th>\n",
       "      <th>Open</th>\n",
       "      <th>High</th>\n",
       "      <th>Low</th>\n",
       "      <th>Close</th>\n",
       "      <th>Volume</th>\n",
       "    </tr>\n",
       "  </thead>\n",
       "  <tbody>\n",
       "    <tr>\n",
       "      <th>0</th>\n",
       "      <td>1/3/2017</td>\n",
       "      <td>778.81</td>\n",
       "      <td>789.63</td>\n",
       "      <td>775.80</td>\n",
       "      <td>786.14</td>\n",
       "      <td>1,657,300</td>\n",
       "    </tr>\n",
       "    <tr>\n",
       "      <th>1</th>\n",
       "      <td>1/4/2017</td>\n",
       "      <td>788.36</td>\n",
       "      <td>791.34</td>\n",
       "      <td>783.16</td>\n",
       "      <td>786.90</td>\n",
       "      <td>1,073,000</td>\n",
       "    </tr>\n",
       "    <tr>\n",
       "      <th>2</th>\n",
       "      <td>1/5/2017</td>\n",
       "      <td>786.08</td>\n",
       "      <td>794.48</td>\n",
       "      <td>785.02</td>\n",
       "      <td>794.02</td>\n",
       "      <td>1,335,200</td>\n",
       "    </tr>\n",
       "    <tr>\n",
       "      <th>3</th>\n",
       "      <td>1/6/2017</td>\n",
       "      <td>795.26</td>\n",
       "      <td>807.90</td>\n",
       "      <td>792.20</td>\n",
       "      <td>806.15</td>\n",
       "      <td>1,640,200</td>\n",
       "    </tr>\n",
       "    <tr>\n",
       "      <th>4</th>\n",
       "      <td>1/9/2017</td>\n",
       "      <td>806.40</td>\n",
       "      <td>809.97</td>\n",
       "      <td>802.83</td>\n",
       "      <td>806.65</td>\n",
       "      <td>1,272,400</td>\n",
       "    </tr>\n",
       "  </tbody>\n",
       "</table>\n",
       "</div>"
      ],
      "text/plain": [
       "       Date    Open    High     Low   Close     Volume\n",
       "0  1/3/2017  778.81  789.63  775.80  786.14  1,657,300\n",
       "1  1/4/2017  788.36  791.34  783.16  786.90  1,073,000\n",
       "2  1/5/2017  786.08  794.48  785.02  794.02  1,335,200\n",
       "3  1/6/2017  795.26  807.90  792.20  806.15  1,640,200\n",
       "4  1/9/2017  806.40  809.97  802.83  806.65  1,272,400"
      ]
     },
     "execution_count": 53,
     "metadata": {},
     "output_type": "execute_result"
    }
   ],
   "source": [
    "test_dataset.head()"
   ]
  },
  {
   "cell_type": "code",
   "execution_count": 54,
   "id": "f1de1460",
   "metadata": {},
   "outputs": [
    {
     "data": {
      "text/plain": [
       "(20, 6)"
      ]
     },
     "execution_count": 54,
     "metadata": {},
     "output_type": "execute_result"
    }
   ],
   "source": [
    "test_dataset.shape"
   ]
  },
  {
   "cell_type": "code",
   "execution_count": 55,
   "id": "978cdb08",
   "metadata": {},
   "outputs": [],
   "source": [
    "real_stock_price=test_dataset.iloc[:,1:2].values"
   ]
  },
  {
   "cell_type": "code",
   "execution_count": 56,
   "id": "268c587a",
   "metadata": {},
   "outputs": [
    {
     "data": {
      "text/plain": [
       "array([[778.81],\n",
       "       [788.36],\n",
       "       [786.08],\n",
       "       [795.26],\n",
       "       [806.4 ],\n",
       "       [807.86],\n",
       "       [805.  ],\n",
       "       [807.14],\n",
       "       [807.48],\n",
       "       [807.08],\n",
       "       [805.81],\n",
       "       [805.12],\n",
       "       [806.91],\n",
       "       [807.25],\n",
       "       [822.3 ],\n",
       "       [829.62],\n",
       "       [837.81],\n",
       "       [834.71],\n",
       "       [814.66],\n",
       "       [796.86]])"
      ]
     },
     "execution_count": 56,
     "metadata": {},
     "output_type": "execute_result"
    }
   ],
   "source": [
    "real_stock_price"
   ]
  },
  {
   "cell_type": "code",
   "execution_count": 57,
   "id": "2a68449a",
   "metadata": {},
   "outputs": [],
   "source": [
    "total_dataset=pd.concat((train_dataset['Open'],test_dataset['Open']),axis=0)"
   ]
  },
  {
   "cell_type": "code",
   "execution_count": 58,
   "id": "48c0d1d9",
   "metadata": {},
   "outputs": [
    {
     "data": {
      "text/plain": [
       "0    325.25\n",
       "1    331.27\n",
       "2    329.83\n",
       "3    328.34\n",
       "4    322.04\n",
       "Name: Open, dtype: float64"
      ]
     },
     "execution_count": 58,
     "metadata": {},
     "output_type": "execute_result"
    }
   ],
   "source": [
    "total_dataset.head()"
   ]
  },
  {
   "cell_type": "code",
   "execution_count": 59,
   "id": "530b6fd5",
   "metadata": {},
   "outputs": [
    {
     "data": {
      "text/plain": [
       "(1278,)"
      ]
     },
     "execution_count": 59,
     "metadata": {},
     "output_type": "execute_result"
    }
   ],
   "source": [
    "total_dataset.shape"
   ]
  },
  {
   "cell_type": "code",
   "execution_count": 60,
   "id": "21d2fa32",
   "metadata": {},
   "outputs": [],
   "source": [
    "inputs=total_dataset[len(total_dataset)-len(test_dataset)-60:].values"
   ]
  },
  {
   "cell_type": "code",
   "execution_count": 61,
   "id": "be8b94e8",
   "metadata": {},
   "outputs": [
    {
     "data": {
      "text/plain": [
       "array([779.  , 779.66, 777.71, 786.66, 783.76, 781.22, 781.65, 779.8 ,\n",
       "       787.85, 798.24, 803.3 , 795.  , 804.9 , 816.68, 806.34, 801.  ,\n",
       "       808.35, 795.47, 782.89, 778.2 , 767.25, 750.66, 774.5 , 783.4 ,\n",
       "       779.94, 791.17, 756.54, 755.6 , 746.97, 755.2 , 766.92, 771.37,\n",
       "       762.61, 772.63, 767.73, 764.26, 760.  , 771.53, 770.07, 757.44,\n",
       "       744.59, 757.71, 764.73, 761.  , 772.48, 780.  , 785.04, 793.9 ,\n",
       "       797.4 , 797.34, 800.4 , 790.22, 796.76, 795.84, 792.36, 790.9 ,\n",
       "       790.68, 793.7 , 783.33, 782.75, 778.81, 788.36, 786.08, 795.26,\n",
       "       806.4 , 807.86, 805.  , 807.14, 807.48, 807.08, 805.81, 805.12,\n",
       "       806.91, 807.25, 822.3 , 829.62, 837.81, 834.71, 814.66, 796.86])"
      ]
     },
     "execution_count": 61,
     "metadata": {},
     "output_type": "execute_result"
    }
   ],
   "source": [
    "inputs"
   ]
  },
  {
   "cell_type": "code",
   "execution_count": 62,
   "id": "68c8b0e8",
   "metadata": {},
   "outputs": [],
   "source": [
    "inputs=inputs.reshape(-1,1)"
   ]
  },
  {
   "cell_type": "code",
   "execution_count": 63,
   "id": "2fd25a7e",
   "metadata": {},
   "outputs": [
    {
     "data": {
      "text/plain": [
       "(80, 1)"
      ]
     },
     "execution_count": 63,
     "metadata": {},
     "output_type": "execute_result"
    }
   ],
   "source": [
    "inputs.shape"
   ]
  },
  {
   "cell_type": "code",
   "execution_count": 64,
   "id": "6e670429",
   "metadata": {},
   "outputs": [],
   "source": [
    "inputs=sc.transform(inputs)"
   ]
  },
  {
   "cell_type": "code",
   "execution_count": 65,
   "id": "47a7fd2e",
   "metadata": {},
   "outputs": [
    {
     "data": {
      "text/plain": [
       "array([0.9299055])"
      ]
     },
     "execution_count": 65,
     "metadata": {},
     "output_type": "execute_result"
    }
   ],
   "source": [
    "inputs[0]"
   ]
  },
  {
   "cell_type": "code",
   "execution_count": 66,
   "id": "0539702a",
   "metadata": {},
   "outputs": [],
   "source": [
    "X_test=[]\n",
    "for i in range(60,80):\n",
    "    X_test.append(inputs[i-60:i,0])\n",
    "X_test=np.array(X_test)"
   ]
  },
  {
   "cell_type": "code",
   "execution_count": 67,
   "id": "332a592f",
   "metadata": {},
   "outputs": [
    {
     "data": {
      "text/plain": [
       "(20, 60)"
      ]
     },
     "execution_count": 67,
     "metadata": {},
     "output_type": "execute_result"
    }
   ],
   "source": [
    "X_test.shape"
   ]
  },
  {
   "cell_type": "code",
   "execution_count": 68,
   "id": "aabaefc4",
   "metadata": {},
   "outputs": [],
   "source": [
    "X_test=np.reshape(X_test,(X_test.shape[0],X_test.shape[1],1))"
   ]
  },
  {
   "cell_type": "code",
   "execution_count": 69,
   "id": "b5c9874d",
   "metadata": {},
   "outputs": [
    {
     "data": {
      "text/plain": [
       "(20, 60, 1)"
      ]
     },
     "execution_count": 69,
     "metadata": {},
     "output_type": "execute_result"
    }
   ],
   "source": [
    "X_test.shape"
   ]
  },
  {
   "cell_type": "code",
   "execution_count": 70,
   "id": "34f4a51e",
   "metadata": {},
   "outputs": [
    {
     "name": "stdout",
     "output_type": "stream",
     "text": [
      "1/1 [==============================] - 0s 40ms/step\n"
     ]
    }
   ],
   "source": [
    "predicted_stock_price=regressor.predict(X_test)"
   ]
  },
  {
   "cell_type": "code",
   "execution_count": 71,
   "id": "c3409e4d",
   "metadata": {},
   "outputs": [
    {
     "data": {
      "text/plain": [
       "array([[0.94652337],\n",
       "       [0.9421319 ],\n",
       "       [0.95314336],\n",
       "       [0.9514691 ],\n",
       "       [0.96158636],\n",
       "       [0.97682846],\n",
       "       [0.97928727],\n",
       "       [0.9754056 ],\n",
       "       [0.9782058 ],\n",
       "       [0.9796568 ],\n",
       "       [0.9793713 ],\n",
       "       [0.9780894 ],\n",
       "       [0.9775443 ],\n",
       "       [0.980132  ],\n",
       "       [0.9811722 ],\n",
       "       [0.9998083 ],\n",
       "       [1.010461  ],\n",
       "       [1.0204321 ],\n",
       "       [1.0179868 ],\n",
       "       [0.99496937]], dtype=float32)"
      ]
     },
     "execution_count": 71,
     "metadata": {},
     "output_type": "execute_result"
    }
   ],
   "source": [
    "predicted_stock_price"
   ]
  },
  {
   "cell_type": "code",
   "execution_count": 72,
   "id": "0fb0b778",
   "metadata": {},
   "outputs": [],
   "source": [
    "predicted_stock_price=sc.inverse_transform(predicted_stock_price)"
   ]
  },
  {
   "cell_type": "code",
   "execution_count": 73,
   "id": "55fa2802",
   "metadata": {},
   "outputs": [
    {
     "data": {
      "text/plain": [
       "array([[787.9331 ],\n",
       "       [785.5724 ],\n",
       "       [791.4917 ],\n",
       "       [790.59174],\n",
       "       [796.03033],\n",
       "       [804.2239 ],\n",
       "       [805.54565],\n",
       "       [803.459  ],\n",
       "       [804.9643 ],\n",
       "       [805.74426],\n",
       "       [805.5908 ],\n",
       "       [804.90173],\n",
       "       [804.6087 ],\n",
       "       [805.9997 ],\n",
       "       [806.5589 ],\n",
       "       [816.5769 ],\n",
       "       [822.30334],\n",
       "       [827.66345],\n",
       "       [826.34894],\n",
       "       [813.9757 ]], dtype=float32)"
      ]
     },
     "execution_count": 73,
     "metadata": {},
     "output_type": "execute_result"
    }
   ],
   "source": [
    "predicted_stock_price"
   ]
  },
  {
   "cell_type": "markdown",
   "id": "01bdccd0",
   "metadata": {},
   "source": [
    "# VISUALIZATION"
   ]
  },
  {
   "cell_type": "code",
   "execution_count": 74,
   "id": "707fb46f",
   "metadata": {},
   "outputs": [
    {
     "data": {
      "image/png": "[encoded data removed]",
      "text/plain": [
       "<Figure size 432x288 with 1 Axes>"
      ]
     },
     "metadata": {
      "needs_background": "light"
     },
     "output_type": "display_data"
    }
   ],
   "source": [
    "plt.plot(real_stock_price,color='red',label='Real Google Stock Price')\n",
    "plt.plot(predicted_stock_price,color='blue',label='Predicted Google Stock Price')\n",
    "plt.title('GOOGLE STOCK PREDICTION')\n",
    "plt.xlabel('Time')\n",
    "plt.ylabel('Stock Price')\n",
    "plt.legend()\n",
    "plt.show()"
   ]
  },
  {
   "cell_type": "markdown",
   "id": "f82977a1",
   "metadata": {},
   "source": [
    "# THANK YOU"
   ]
  }
 ],
 "metadata": {
  "kernelspec": {
   "display_name": "Python 3 (ipykernel)",
   "language": "python",
   "name": "python3"
  },
  "language_info": {
   "codemirror_mode": {
    "name": "ipython",
    "version": 3
   },
   "file_extension": ".py",
   "mimetype": "text/x-python",
   "name": "python",
   "nbconvert_exporter": "python",
   "pygments_lexer": "ipython3",
   "version": "3.9.12"
  }
 },
 "nbformat": 4,
 "nbformat_minor": 5
}
